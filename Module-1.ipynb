{
 "cells": [
  {
   "cell_type": "markdown",
   "id": "9db4fe44",
   "metadata": {},
   "source": [
    "### Importing and Exporting Data in Python"
   ]
  },
  {
   "cell_type": "code",
   "execution_count": null,
   "id": "40d1d8a4",
   "metadata": {},
   "outputs": [],
   "source": [
    "pip install pandas"
   ]
  },
  {
   "cell_type": "code",
   "execution_count": 1,
   "id": "f67618fa",
   "metadata": {},
   "outputs": [
    {
     "name": "stdout",
     "output_type": "stream",
     "text": [
      "   symboling  normalized-losses         make fuel-type aspiration  \\\n",
      "0          3                NaN  alfa-romero       gas        std   \n",
      "1          3                NaN  alfa-romero       gas        std   \n",
      "2          1                NaN  alfa-romero       gas        std   \n",
      "3          2              164.0         audi       gas        std   \n",
      "4          2              164.0         audi       gas        std   \n",
      "\n",
      "  num-of-doors   body-style drive-wheels engine-location  wheel-base  ...  \\\n",
      "0          two  convertible          rwd           front        88.6  ...   \n",
      "1          two  convertible          rwd           front        88.6  ...   \n",
      "2          two    hatchback          rwd           front        94.5  ...   \n",
      "3         four        sedan          fwd           front        99.8  ...   \n",
      "4         four        sedan          4wd           front        99.4  ...   \n",
      "\n",
      "   engine-size  fuel-system  bore  stroke compression-ratio horsepower  \\\n",
      "0          130         mpfi  3.47    2.68               9.0      111.0   \n",
      "1          130         mpfi  3.47    2.68               9.0      111.0   \n",
      "2          152         mpfi  2.68    3.47               9.0      154.0   \n",
      "3          109         mpfi  3.19    3.40              10.0      102.0   \n",
      "4          136         mpfi  3.19    3.40               8.0      115.0   \n",
      "\n",
      "   peak-rpm city-mpg  highway-mpg    price  \n",
      "0    5000.0       21           27  13495.0  \n",
      "1    5000.0       21           27  16500.0  \n",
      "2    5000.0       19           26  16500.0  \n",
      "3    5500.0       24           30  13950.0  \n",
      "4    5500.0       18           22  17450.0  \n",
      "\n",
      "[5 rows x 26 columns]\n"
     ]
    }
   ],
   "source": [
    "import pandas as pd\n",
    "\n",
    "# Raw data file (CSV-like) for the UCI Automobile dataset\n",
    "url = \"https://archive.ics.uci.edu/ml/machine-learning-databases/autos/imports-85.data\"\n",
    "\n",
    "# Column names from the dataset's .names file\n",
    "cols = [\n",
    "    'symboling', 'normalized-losses', 'make', 'fuel-type', 'aspiration',\n",
    "    'num-of-doors', 'body-style', 'drive-wheels', 'engine-location',\n",
    "    'wheel-base', 'length', 'width', 'height', 'curb-weight', 'engine-type',\n",
    "    'num-of-cylinders', 'engine-size', 'fuel-system', 'bore', 'stroke',\n",
    "    'compression-ratio', 'horsepower', 'peak-rpm', 'city-mpg', 'highway-mpg',\n",
    "    'price'\n",
    "]\n",
    "\n",
    "# The dataset uses '?' for missing values\n",
    "df = pd.read_csv(url, header=None, names=cols, na_values='?')\n",
    "\n",
    "print(df.head())\n",
    "\n"
   ]
  },
  {
   "cell_type": "markdown",
   "id": "b55ec786",
   "metadata": {},
   "source": [
    "### Accessing Databases with Python"
   ]
  },
  {
   "cell_type": "code",
   "execution_count": null,
   "id": "f03cf6b0",
   "metadata": {},
   "outputs": [
    {
     "ename": "ModuleNotFoundError",
     "evalue": "No module named 'dmoudule'",
     "output_type": "error",
     "traceback": [
      "\u001b[31m---------------------------------------------------------------------------\u001b[39m",
      "\u001b[31mModuleNotFoundError\u001b[39m                       Traceback (most recent call last)",
      "\u001b[36mCell\u001b[39m\u001b[36m \u001b[39m\u001b[32mIn[7]\u001b[39m\u001b[32m, line 3\u001b[39m\n\u001b[32m      1\u001b[39m \u001b[38;5;66;03m# Writing code using DB-API , example given by Coursera video \"Accessing Databases with Python\"\u001b[39;00m\n\u001b[32m----> \u001b[39m\u001b[32m3\u001b[39m \u001b[38;5;28;01mfrom\u001b[39;00m\u001b[38;5;250m \u001b[39m\u001b[34;01mdmoudule\u001b[39;00m\u001b[38;5;250m \u001b[39m\u001b[38;5;28;01mimport\u001b[39;00m connect\n\u001b[32m      5\u001b[39m \u001b[38;5;66;03m# Create connection object\u001b[39;00m\n\u001b[32m      6\u001b[39m connection = connect(\u001b[33m'\u001b[39m\u001b[33mdatabase\u001b[39m\u001b[33m'\u001b[39m, \u001b[33m'\u001b[39m\u001b[33musername\u001b[39m\u001b[33m'\u001b[39m,\u001b[33m'\u001b[39m\u001b[33mpswd\u001b[39m\u001b[33m'\u001b[39m)\n",
      "\u001b[31mModuleNotFoundError\u001b[39m: No module named 'dmoudule'"
     ]
    }
   ],
   "source": [
    "# Writing code using DB-API , example given by Coursera video \"Accessing Databases with Python\"\n",
    "\n",
    "from dmoudule import connect   \n",
    "# here dmoudule isn’t a real package—it’s a typo/placeholder , \n",
    "# In Python’s DB-API you import a real database driver, e.g.:-\n",
    "# SQLite: import sqlite3 (built-in)\n",
    "# PostgreSQL: import psycopg2\n",
    "# MySQL: import mysql.connector or import pymysql\n",
    "# SQL Server: import pyodbc\n",
    "\n",
    "# Create connection object\n",
    "connection = connect('database', 'username','pswd')\n",
    "\n",
    "# Create cursor object\n",
    "cursor = connection.cursor()\n",
    "\n",
    "# Run queries\n",
    "cursor.execute('select * from mytable')\n",
    "results = cursor.fetchall()\n",
    "\n",
    "# free resources\n",
    "cursor.close()\n",
    "connection.close()\n",
    "\n"
   ]
  }
 ],
 "metadata": {
  "kernelspec": {
   "display_name": "Python 3",
   "language": "python",
   "name": "python3"
  },
  "language_info": {
   "codemirror_mode": {
    "name": "ipython",
    "version": 3
   },
   "file_extension": ".py",
   "mimetype": "text/x-python",
   "name": "python",
   "nbconvert_exporter": "python",
   "pygments_lexer": "ipython3",
   "version": "3.13.9"
  }
 },
 "nbformat": 4,
 "nbformat_minor": 5
}
