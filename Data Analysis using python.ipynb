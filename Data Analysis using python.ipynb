{
 "cells": [
  {
   "cell_type": "markdown",
   "id": "9db4fe44",
   "metadata": {},
   "source": [
    "Importing and Exporting Data in Python"
   ]
  },
  {
   "cell_type": "code",
   "execution_count": null,
   "id": "40d1d8a4",
   "metadata": {},
   "outputs": [],
   "source": [
    "pip install pandas"
   ]
  },
  {
   "cell_type": "code",
   "execution_count": 1,
   "id": "f67618fa",
   "metadata": {},
   "outputs": [
    {
     "name": "stdout",
     "output_type": "stream",
     "text": [
      "   symboling  normalized-losses         make fuel-type aspiration  \\\n",
      "0          3                NaN  alfa-romero       gas        std   \n",
      "1          3                NaN  alfa-romero       gas        std   \n",
      "2          1                NaN  alfa-romero       gas        std   \n",
      "3          2              164.0         audi       gas        std   \n",
      "4          2              164.0         audi       gas        std   \n",
      "\n",
      "  num-of-doors   body-style drive-wheels engine-location  wheel-base  ...  \\\n",
      "0          two  convertible          rwd           front        88.6  ...   \n",
      "1          two  convertible          rwd           front        88.6  ...   \n",
      "2          two    hatchback          rwd           front        94.5  ...   \n",
      "3         four        sedan          fwd           front        99.8  ...   \n",
      "4         four        sedan          4wd           front        99.4  ...   \n",
      "\n",
      "   engine-size  fuel-system  bore  stroke compression-ratio horsepower  \\\n",
      "0          130         mpfi  3.47    2.68               9.0      111.0   \n",
      "1          130         mpfi  3.47    2.68               9.0      111.0   \n",
      "2          152         mpfi  2.68    3.47               9.0      154.0   \n",
      "3          109         mpfi  3.19    3.40              10.0      102.0   \n",
      "4          136         mpfi  3.19    3.40               8.0      115.0   \n",
      "\n",
      "   peak-rpm city-mpg  highway-mpg    price  \n",
      "0    5000.0       21           27  13495.0  \n",
      "1    5000.0       21           27  16500.0  \n",
      "2    5000.0       19           26  16500.0  \n",
      "3    5500.0       24           30  13950.0  \n",
      "4    5500.0       18           22  17450.0  \n",
      "\n",
      "[5 rows x 26 columns]\n"
     ]
    }
   ],
   "source": [
    "import pandas as pd\n",
    "\n",
    "# Raw data file (CSV-like) for the UCI Automobile dataset\n",
    "url = \"https://archive.ics.uci.edu/ml/machine-learning-databases/autos/imports-85.data\"\n",
    "\n",
    "# Column names from the dataset's .names file\n",
    "cols = [\n",
    "    'symboling', 'normalized-losses', 'make', 'fuel-type', 'aspiration',\n",
    "    'num-of-doors', 'body-style', 'drive-wheels', 'engine-location',\n",
    "    'wheel-base', 'length', 'width', 'height', 'curb-weight', 'engine-type',\n",
    "    'num-of-cylinders', 'engine-size', 'fuel-system', 'bore', 'stroke',\n",
    "    'compression-ratio', 'horsepower', 'peak-rpm', 'city-mpg', 'highway-mpg',\n",
    "    'price'\n",
    "]\n",
    "\n",
    "# The dataset uses '?' for missing values\n",
    "df = pd.read_csv(url, header=None, names=cols, na_values='?')\n",
    "\n",
    "print(df.head())\n",
    "\n"
   ]
  }
 ],
 "metadata": {
  "kernelspec": {
   "display_name": "Python 3",
   "language": "python",
   "name": "python3"
  },
  "language_info": {
   "codemirror_mode": {
    "name": "ipython",
    "version": 3
   },
   "file_extension": ".py",
   "mimetype": "text/x-python",
   "name": "python",
   "nbconvert_exporter": "python",
   "pygments_lexer": "ipython3",
   "version": "3.13.9"
  }
 },
 "nbformat": 4,
 "nbformat_minor": 5
}
